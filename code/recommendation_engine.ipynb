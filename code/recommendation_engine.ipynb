{
 "cells": [
  {
   "cell_type": "markdown",
   "metadata": {},
   "source": [
    "# Podcast Recommender System "
   ]
  },
  {
   "cell_type": "markdown",
   "metadata": {},
   "source": [
    "#### Author Eu Jin Lee: [LinkedIn](https://www.linkedin.com/in/eeujinlee/) | [GitHub](https://github.com/MissingNA)"
   ]
  },
  {
   "cell_type": "markdown",
   "metadata": {},
   "source": [
    "![](/capstone/images/expressions_chart.jpg)"
   ]
  },
  {
   "cell_type": "markdown",
   "metadata": {},
   "source": [
    "## Problem Statement "
   ]
  },
  {
   "cell_type": "markdown",
   "metadata": {},
   "source": [
    "The advent of podcasts started in late 2004 with the public's greater accesibility to broadband Internet and portable digital audio playback devices such as the iPod. This allowed people to explore the digital media space by developing episodic series of spoken word through digital audio files that could be downloaded onto your personal device for easy listening. Discussion and content within a podcast can range from carefully scripted to totally improvised. Podcasts combine elaborate and artistic sound production with thematic concerns ranging from scientific research to slice-of-life journalism. [1]\n",
    "\n",
    "However in recent years, podcasting has become a disruptive and popular medium to invest in and use as a commercial platform. \n",
    "\n",
    "As the podcast wars intensifies, major players such as Spotify, Apple's iTunes, Pandora and iHeartRadio are rushing to claim dominance within the media space. And one of the ways that has proven to much success in establishing that dominant position is by developing a reliable and accurate recommendation system for their podcast service platforms. \n",
    "\n",
    "Our goal is to build a recommendation system based on the podcast descriptors and categories as driving features for our model to create those recommendations. We have managed to sourced a dataset with over ~1 million + rows of podcast data from Listen Notes, a podcast search engine. Making it one of the most comprehensive podcast databases that you can find on the Internet. \n",
    "\n",
    "This recommendation system will then be onboarded onto a front facing website interface that users can interact with by hosting our application on Heroku. "
   ]
  },
  {
   "cell_type": "markdown",
   "metadata": {},
   "source": [
    "## Executive Summary"
   ]
  },
  {
   "cell_type": "code",
   "execution_count": null,
   "metadata": {},
   "outputs": [],
   "source": []
  },
  {
   "cell_type": "markdown",
   "metadata": {},
   "source": [
    "## Table of Contents"
   ]
  },
  {
   "cell_type": "markdown",
   "metadata": {},
   "source": [
    "- [Data Dictionary](#Data-Dictionary)\n",
    "- [Import Packages](#Import-Packages)\n",
    "- [Podcast Data](#Podcast-Data)\n",
    "    - [Data Import and EDA](#Data-Import-and-EDA)\n",
    "- [Buiding Recommendation Engine](#Building-Recommendation-Engine)\n",
    "- [Conclusions and Recommendations](#Conclusions-and-Recommendations)\n",
    "- [References](#References)"
   ]
  },
  {
   "cell_type": "markdown",
   "metadata": {},
   "source": [
    "## Import Packages"
   ]
  },
  {
   "cell_type": "code",
   "execution_count": 1,
   "metadata": {},
   "outputs": [],
   "source": [
    "#Standard Packages\n",
    "import pandas as pd\n",
    "import numpy as np\n",
    "import seaborn as sns\n",
    "import matplotlib.pyplot as plt\n",
    "%matplotlib inline\n",
    "\n",
    "import os\n",
    "import re\n",
    "from sklearn.feature_extraction.text import TfidfVectorizer, CountVectorizer\n",
    "from sklearn.metrics.pairwise import cosine_similarity\n",
    "\n",
    "from scipy import sparse\n",
    "from scipy.sparse import hstack\n",
    "\n",
    "from IPython.core.interactiveshell import InteractiveShell\n",
    "InteractiveShell.ast_node_interactivity = \"all\"\n",
    "pd.set_option('max_columns', 70)"
   ]
  },
  {
   "cell_type": "markdown",
   "metadata": {},
   "source": [
    "## Podcast Data "
   ]
  },
  {
   "cell_type": "markdown",
   "metadata": {},
   "source": [
    "### Data Import and EDA "
   ]
  },
  {
   "cell_type": "code",
   "execution_count": 2,
   "metadata": {},
   "outputs": [],
   "source": [
    "podcasts = pd.read_csv('../data/podcasts.csv')"
   ]
  },
  {
   "cell_type": "code",
   "execution_count": 3,
   "metadata": {},
   "outputs": [
    {
     "data": {
      "text/plain": [
       "(121175, 9)"
      ]
     },
     "execution_count": 3,
     "metadata": {},
     "output_type": "execute_result"
    }
   ],
   "source": [
    "podcasts.shape"
   ]
  },
  {
   "cell_type": "code",
   "execution_count": 4,
   "metadata": {},
   "outputs": [
    {
     "data": {
      "text/html": [
       "<div>\n",
       "<style scoped>\n",
       "    .dataframe tbody tr th:only-of-type {\n",
       "        vertical-align: middle;\n",
       "    }\n",
       "\n",
       "    .dataframe tbody tr th {\n",
       "        vertical-align: top;\n",
       "    }\n",
       "\n",
       "    .dataframe thead th {\n",
       "        text-align: right;\n",
       "    }\n",
       "</style>\n",
       "<table border=\"1\" class=\"dataframe\">\n",
       "  <thead>\n",
       "    <tr style=\"text-align: right;\">\n",
       "      <th></th>\n",
       "      <th>uuid</th>\n",
       "      <th>title</th>\n",
       "      <th>image</th>\n",
       "      <th>description</th>\n",
       "      <th>language</th>\n",
       "      <th>categories</th>\n",
       "      <th>website</th>\n",
       "      <th>author</th>\n",
       "      <th>itunes_id</th>\n",
       "    </tr>\n",
       "  </thead>\n",
       "  <tbody>\n",
       "    <tr>\n",
       "      <th>0</th>\n",
       "      <td>8d62d3880db2425b890b986e58aca393</td>\n",
       "      <td>Ecommerce Conversations, by Practical Ecommerce</td>\n",
       "      <td>http://is4.mzstatic.com/image/thumb/Music6/v4/...</td>\n",
       "      <td>Listen in as the Practical Ecommerce editorial...</td>\n",
       "      <td>English</td>\n",
       "      <td>Technology</td>\n",
       "      <td>http://www.practicalecommerce.com</td>\n",
       "      <td>Practical Ecommerce</td>\n",
       "      <td>874457373</td>\n",
       "    </tr>\n",
       "    <tr>\n",
       "      <th>1</th>\n",
       "      <td>cbbefd691915468c90f87ab2f00473f9</td>\n",
       "      <td>Eat Sleep Code Podcast</td>\n",
       "      <td>http://is4.mzstatic.com/image/thumb/Music71/v4...</td>\n",
       "      <td>On the show we’ll be talking to passionate peo...</td>\n",
       "      <td>English</td>\n",
       "      <td>Tech News | Technology</td>\n",
       "      <td>http://developer.telerik.com/</td>\n",
       "      <td>Telerik</td>\n",
       "      <td>1015556393</td>\n",
       "    </tr>\n",
       "    <tr>\n",
       "      <th>2</th>\n",
       "      <td>73626ad1edb74dbb8112cd159bda86cf</td>\n",
       "      <td>SoundtrackAlley</td>\n",
       "      <td>http://is5.mzstatic.com/image/thumb/Music71/v4...</td>\n",
       "      <td>A podcast about soundtracks and movies from my...</td>\n",
       "      <td>English</td>\n",
       "      <td>Podcasting | Technology</td>\n",
       "      <td>https://soundtrackalley.podbean.com</td>\n",
       "      <td>Randy Andrews</td>\n",
       "      <td>1158188937</td>\n",
       "    </tr>\n",
       "    <tr>\n",
       "      <th>3</th>\n",
       "      <td>0f50631ebad24cedb2fee80950f37a1a</td>\n",
       "      <td>The Tech M&amp;A Podcast</td>\n",
       "      <td>http://is1.mzstatic.com/image/thumb/Music71/v4...</td>\n",
       "      <td>The Tech M&amp;A Podcast pulls from the best of th...</td>\n",
       "      <td>English</td>\n",
       "      <td>Business News | Technology | Tech News | Business</td>\n",
       "      <td>http://www.corumgroup.com</td>\n",
       "      <td>Timothy Goddard</td>\n",
       "      <td>538160025</td>\n",
       "    </tr>\n",
       "    <tr>\n",
       "      <th>4</th>\n",
       "      <td>69580e7b419045839ca07af06cf0d653</td>\n",
       "      <td>The Tech Informist - For fans of Apple, Google...</td>\n",
       "      <td>http://is4.mzstatic.com/image/thumb/Music62/v4...</td>\n",
       "      <td>The tech news show with two guys shooting the ...</td>\n",
       "      <td>English</td>\n",
       "      <td>Gadgets | Tech News | Technology</td>\n",
       "      <td>http://techinformist.com</td>\n",
       "      <td>The Tech Informist</td>\n",
       "      <td>916080498</td>\n",
       "    </tr>\n",
       "  </tbody>\n",
       "</table>\n",
       "</div>"
      ],
      "text/plain": [
       "                               uuid  \\\n",
       "0  8d62d3880db2425b890b986e58aca393   \n",
       "1  cbbefd691915468c90f87ab2f00473f9   \n",
       "2  73626ad1edb74dbb8112cd159bda86cf   \n",
       "3  0f50631ebad24cedb2fee80950f37a1a   \n",
       "4  69580e7b419045839ca07af06cf0d653   \n",
       "\n",
       "                                               title  \\\n",
       "0    Ecommerce Conversations, by Practical Ecommerce   \n",
       "1                             Eat Sleep Code Podcast   \n",
       "2                                    SoundtrackAlley   \n",
       "3                               The Tech M&A Podcast   \n",
       "4  The Tech Informist - For fans of Apple, Google...   \n",
       "\n",
       "                                               image  \\\n",
       "0  http://is4.mzstatic.com/image/thumb/Music6/v4/...   \n",
       "1  http://is4.mzstatic.com/image/thumb/Music71/v4...   \n",
       "2  http://is5.mzstatic.com/image/thumb/Music71/v4...   \n",
       "3  http://is1.mzstatic.com/image/thumb/Music71/v4...   \n",
       "4  http://is4.mzstatic.com/image/thumb/Music62/v4...   \n",
       "\n",
       "                                         description language  \\\n",
       "0  Listen in as the Practical Ecommerce editorial...  English   \n",
       "1  On the show we’ll be talking to passionate peo...  English   \n",
       "2  A podcast about soundtracks and movies from my...  English   \n",
       "3  The Tech M&A Podcast pulls from the best of th...  English   \n",
       "4  The tech news show with two guys shooting the ...  English   \n",
       "\n",
       "                                          categories  \\\n",
       "0                                         Technology   \n",
       "1                             Tech News | Technology   \n",
       "2                            Podcasting | Technology   \n",
       "3  Business News | Technology | Tech News | Business   \n",
       "4                   Gadgets | Tech News | Technology   \n",
       "\n",
       "                               website               author   itunes_id  \n",
       "0    http://www.practicalecommerce.com  Practical Ecommerce   874457373  \n",
       "1        http://developer.telerik.com/              Telerik  1015556393  \n",
       "2  https://soundtrackalley.podbean.com        Randy Andrews  1158188937  \n",
       "3            http://www.corumgroup.com      Timothy Goddard   538160025  \n",
       "4             http://techinformist.com   The Tech Informist   916080498  "
      ]
     },
     "execution_count": 4,
     "metadata": {},
     "output_type": "execute_result"
    }
   ],
   "source": [
    "podcasts.head()"
   ]
  },
  {
   "cell_type": "code",
   "execution_count": 5,
   "metadata": {},
   "outputs": [
    {
     "name": "stdout",
     "output_type": "stream",
     "text": [
      "<class 'pandas.core.frame.DataFrame'>\n",
      "RangeIndex: 121175 entries, 0 to 121174\n",
      "Data columns (total 9 columns):\n",
      " #   Column       Non-Null Count   Dtype \n",
      "---  ------       --------------   ----- \n",
      " 0   uuid         121175 non-null  object\n",
      " 1   title        121173 non-null  object\n",
      " 2   image        121175 non-null  object\n",
      " 3   description  119832 non-null  object\n",
      " 4   language     121175 non-null  object\n",
      " 5   categories   121175 non-null  object\n",
      " 6   website      120005 non-null  object\n",
      " 7   author       118678 non-null  object\n",
      " 8   itunes_id    121175 non-null  int64 \n",
      "dtypes: int64(1), object(8)\n",
      "memory usage: 8.3+ MB\n"
     ]
    }
   ],
   "source": [
    "podcasts.info()"
   ]
  },
  {
   "cell_type": "markdown",
   "metadata": {},
   "source": [
    "#### Languages in Podcast Dataset"
   ]
  },
  {
   "cell_type": "code",
   "execution_count": 6,
   "metadata": {},
   "outputs": [
    {
     "data": {
      "text/plain": [
       "English             99316\n",
       "German               4316\n",
       "French               3874\n",
       "Spanish              3637\n",
       "Portuguese           1827\n",
       "Swedish              1698\n",
       "Chinese              1329\n",
       "Japanese             1097\n",
       "Italian               818\n",
       "Russian               602\n",
       "Dutch                 531\n",
       "Norwegian             435\n",
       "Danish                337\n",
       "Korean                190\n",
       "Finnish               157\n",
       "Polish                145\n",
       "Estonian              128\n",
       "Czech                 119\n",
       "Turkish               116\n",
       "Catalan                93\n",
       "Slovenian              79\n",
       "Hungarian              72\n",
       "Romanian               39\n",
       "Galician               37\n",
       "Ukranian               30\n",
       "Slovak                 22\n",
       "Swahili                21\n",
       "Indonesian             19\n",
       "Greek                  13\n",
       "Icelandic              13\n",
       "Basque                 13\n",
       "Afrikaans              13\n",
       "Bulgarian               9\n",
       "Serbian                 8\n",
       "Albanian                6\n",
       "Croatian                5\n",
       "Abkhazian               3\n",
       "Irish                   3\n",
       "Afar                    1\n",
       "Faeroese                1\n",
       "Norwegian Bokmål        1\n",
       "Belarusian              1\n",
       "Macedonian              1\n",
       "Name: language, dtype: int64"
      ]
     },
     "execution_count": 6,
     "metadata": {},
     "output_type": "execute_result"
    }
   ],
   "source": [
    "podcasts.language.value_counts()"
   ]
  },
  {
   "cell_type": "markdown",
   "metadata": {},
   "source": [
    "#### Filtering for English podcast "
   ]
  },
  {
   "cell_type": "code",
   "execution_count": 7,
   "metadata": {},
   "outputs": [],
   "source": [
    "podcasts = podcasts[podcasts.language == 'English']"
   ]
  },
  {
   "cell_type": "markdown",
   "metadata": {},
   "source": [
    "#### Removing podcast with missing descriptions and duplicate ids"
   ]
  },
  {
   "cell_type": "code",
   "execution_count": 8,
   "metadata": {},
   "outputs": [],
   "source": [
    "podcasts = podcasts.dropna(subset=['description'])\n",
    "podcasts = podcasts.drop_duplicates('itunes_id')"
   ]
  },
  {
   "cell_type": "code",
   "execution_count": 9,
   "metadata": {},
   "outputs": [
    {
     "data": {
      "text/plain": [
       "0"
      ]
     },
     "execution_count": 9,
     "metadata": {},
     "output_type": "execute_result"
    }
   ],
   "source": [
    "podcasts.description.isnull().sum()"
   ]
  },
  {
   "cell_type": "markdown",
   "metadata": {},
   "source": [
    "#### Filtering for podcast descriptions greater than 20 words "
   ]
  },
  {
   "cell_type": "code",
   "execution_count": 10,
   "metadata": {},
   "outputs": [],
   "source": [
    "podcasts['description_length'] = [len(x.description.split()) for _, x in podcasts.iterrows()]"
   ]
  },
  {
   "cell_type": "code",
   "execution_count": 11,
   "metadata": {},
   "outputs": [
    {
     "data": {
      "text/plain": [
       "count    98173.000000\n",
       "mean        39.168753\n",
       "std        107.098547\n",
       "min          0.000000\n",
       "25%         11.000000\n",
       "50%         26.000000\n",
       "75%         51.000000\n",
       "max      30157.000000\n",
       "Name: description_length, dtype: float64"
      ]
     },
     "execution_count": 11,
     "metadata": {},
     "output_type": "execute_result"
    }
   ],
   "source": [
    "podcasts['description_length'].describe()"
   ]
  },
  {
   "cell_type": "markdown",
   "metadata": {},
   "source": [
    "About 25\\% of our descriptions have less than 11 words or less. Hence, a fair assumption that these won't serve as good inputs when we build the recommender system. Just to be safe, we are only including descriptions that have at least 20 words in them."
   ]
  },
  {
   "cell_type": "code",
   "execution_count": 12,
   "metadata": {},
   "outputs": [],
   "source": [
    "podcasts = podcasts[podcasts.description_length >= 20]"
   ]
  },
  {
   "cell_type": "markdown",
   "metadata": {},
   "source": [
    "## Building Recommender Engine "
   ]
  },
  {
   "cell_type": "markdown",
   "metadata": {},
   "source": [
    "### Recommendations from database"
   ]
  },
  {
   "cell_type": "markdown",
   "metadata": {},
   "source": [
    "#### Tokenizing and dummifying categories to form a categories matrix "
   ]
  },
  {
   "cell_type": "code",
   "execution_count": 13,
   "metadata": {},
   "outputs": [
    {
     "data": {
      "text/plain": [
       "(59322, 10)"
      ]
     },
     "execution_count": 13,
     "metadata": {},
     "output_type": "execute_result"
    }
   ],
   "source": [
    "podcasts.shape"
   ]
  },
  {
   "cell_type": "code",
   "execution_count": 14,
   "metadata": {},
   "outputs": [],
   "source": [
    "podcasts.categories.fillna('None', inplace=True)"
   ]
  },
  {
   "cell_type": "code",
   "execution_count": 15,
   "metadata": {},
   "outputs": [],
   "source": [
    "unique_categories = podcasts.categories.unique()"
   ]
  },
  {
   "cell_type": "code",
   "execution_count": 16,
   "metadata": {},
   "outputs": [],
   "source": [
    "final_categories = set()\n",
    "for category in unique_categories: \n",
    "    strip_cats = [cat_split.strip() for cat_split in category.split('|')]\n",
    "    for strip_cat in strip_cats:\n",
    "        final_categories.add(strip_cat)\n",
    "new_features = list(final_categories)"
   ]
  },
  {
   "cell_type": "code",
   "execution_count": 17,
   "metadata": {},
   "outputs": [],
   "source": [
    "# convert list into columns and append to podcast dataframe \n",
    "category_df = pd.DataFrame()\n",
    "# run a loop to check if categories column has the word in each of the new columns 1 for yes 0 for no\n",
    "for column_name in new_features:\n",
    "    boolean_series = podcasts.categories.str.contains(column_name).astype(int)\n",
    "    category_df[column_name] = boolean_series"
   ]
  },
  {
   "cell_type": "code",
   "execution_count": 18,
   "metadata": {},
   "outputs": [
    {
     "data": {
      "text/plain": [
       "(59322, 67)"
      ]
     },
     "execution_count": 18,
     "metadata": {},
     "output_type": "execute_result"
    }
   ],
   "source": [
    "category_df.shape"
   ]
  },
  {
   "cell_type": "code",
   "execution_count": 19,
   "metadata": {},
   "outputs": [
    {
     "data": {
      "text/html": [
       "<div>\n",
       "<style scoped>\n",
       "    .dataframe tbody tr th:only-of-type {\n",
       "        vertical-align: middle;\n",
       "    }\n",
       "\n",
       "    .dataframe tbody tr th {\n",
       "        vertical-align: top;\n",
       "    }\n",
       "\n",
       "    .dataframe thead th {\n",
       "        text-align: right;\n",
       "    }\n",
       "</style>\n",
       "<table border=\"1\" class=\"dataframe\">\n",
       "  <thead>\n",
       "    <tr style=\"text-align: right;\">\n",
       "      <th></th>\n",
       "      <th>News &amp; Politics</th>\n",
       "      <th>Hobbies</th>\n",
       "      <th>Personal Journals</th>\n",
       "      <th>Higher Education</th>\n",
       "      <th>Sexuality</th>\n",
       "      <th>Buddhism</th>\n",
       "      <th>Careers</th>\n",
       "      <th>Other</th>\n",
       "      <th>Podcasting</th>\n",
       "      <th>Other Games</th>\n",
       "      <th>Social Sciences</th>\n",
       "      <th>Software How-To</th>\n",
       "      <th>Medicine</th>\n",
       "      <th>Education</th>\n",
       "      <th>Judaism</th>\n",
       "      <th>Regional</th>\n",
       "      <th>Investing</th>\n",
       "      <th>Games &amp; Hobbies</th>\n",
       "      <th>National</th>\n",
       "      <th>Local</th>\n",
       "      <th>Alternative Health</th>\n",
       "      <th>Training</th>\n",
       "      <th>Business News</th>\n",
       "      <th>Self-Help</th>\n",
       "      <th>Fitness &amp; Nutrition</th>\n",
       "      <th>Philosophy</th>\n",
       "      <th>Health</th>\n",
       "      <th>Language Courses</th>\n",
       "      <th>History</th>\n",
       "      <th>Amateur</th>\n",
       "      <th>Society &amp; Culture</th>\n",
       "      <th>Shopping</th>\n",
       "      <th>Outdoor</th>\n",
       "      <th>Spirituality</th>\n",
       "      <th>Places &amp; Travel</th>\n",
       "      <th>Islam</th>\n",
       "      <th>Science &amp; Medicine</th>\n",
       "      <th>Arts</th>\n",
       "      <th>Technology</th>\n",
       "      <th>Design</th>\n",
       "      <th>Comedy</th>\n",
       "      <th>Literature</th>\n",
       "      <th>Management &amp; Marketing</th>\n",
       "      <th>Visual Arts</th>\n",
       "      <th>Business</th>\n",
       "      <th>Government &amp; Organizations</th>\n",
       "      <th>Food</th>\n",
       "      <th>Christianity</th>\n",
       "      <th>Non-Profit</th>\n",
       "      <th>Video Games</th>\n",
       "      <th>Performing Arts</th>\n",
       "      <th>Religion &amp; Spirituality</th>\n",
       "      <th>K-12</th>\n",
       "      <th>TV &amp; Film</th>\n",
       "      <th>Tech News</th>\n",
       "      <th>Educational Technology</th>\n",
       "      <th>Fashion &amp; Beauty</th>\n",
       "      <th>Sports &amp; Recreation</th>\n",
       "      <th>Hinduism</th>\n",
       "      <th>Natural Sciences</th>\n",
       "      <th>Kids &amp; Family</th>\n",
       "      <th>College &amp; High School</th>\n",
       "      <th>Aviation</th>\n",
       "      <th>Professional</th>\n",
       "      <th>Gadgets</th>\n",
       "      <th>Automotive</th>\n",
       "      <th>Music</th>\n",
       "    </tr>\n",
       "  </thead>\n",
       "  <tbody>\n",
       "    <tr>\n",
       "      <th>1</th>\n",
       "      <td>0</td>\n",
       "      <td>0</td>\n",
       "      <td>0</td>\n",
       "      <td>0</td>\n",
       "      <td>0</td>\n",
       "      <td>0</td>\n",
       "      <td>0</td>\n",
       "      <td>0</td>\n",
       "      <td>0</td>\n",
       "      <td>0</td>\n",
       "      <td>0</td>\n",
       "      <td>0</td>\n",
       "      <td>0</td>\n",
       "      <td>0</td>\n",
       "      <td>0</td>\n",
       "      <td>0</td>\n",
       "      <td>0</td>\n",
       "      <td>0</td>\n",
       "      <td>0</td>\n",
       "      <td>0</td>\n",
       "      <td>0</td>\n",
       "      <td>0</td>\n",
       "      <td>0</td>\n",
       "      <td>0</td>\n",
       "      <td>0</td>\n",
       "      <td>0</td>\n",
       "      <td>0</td>\n",
       "      <td>0</td>\n",
       "      <td>0</td>\n",
       "      <td>0</td>\n",
       "      <td>0</td>\n",
       "      <td>0</td>\n",
       "      <td>0</td>\n",
       "      <td>0</td>\n",
       "      <td>0</td>\n",
       "      <td>0</td>\n",
       "      <td>0</td>\n",
       "      <td>0</td>\n",
       "      <td>1</td>\n",
       "      <td>0</td>\n",
       "      <td>0</td>\n",
       "      <td>0</td>\n",
       "      <td>0</td>\n",
       "      <td>0</td>\n",
       "      <td>0</td>\n",
       "      <td>0</td>\n",
       "      <td>0</td>\n",
       "      <td>0</td>\n",
       "      <td>0</td>\n",
       "      <td>0</td>\n",
       "      <td>0</td>\n",
       "      <td>0</td>\n",
       "      <td>0</td>\n",
       "      <td>0</td>\n",
       "      <td>1</td>\n",
       "      <td>0</td>\n",
       "      <td>0</td>\n",
       "      <td>0</td>\n",
       "      <td>0</td>\n",
       "      <td>0</td>\n",
       "      <td>0</td>\n",
       "      <td>0</td>\n",
       "      <td>0</td>\n",
       "      <td>0</td>\n",
       "      <td>0</td>\n",
       "      <td>0</td>\n",
       "      <td>0</td>\n",
       "    </tr>\n",
       "    <tr>\n",
       "      <th>3</th>\n",
       "      <td>0</td>\n",
       "      <td>0</td>\n",
       "      <td>0</td>\n",
       "      <td>0</td>\n",
       "      <td>0</td>\n",
       "      <td>0</td>\n",
       "      <td>0</td>\n",
       "      <td>0</td>\n",
       "      <td>0</td>\n",
       "      <td>0</td>\n",
       "      <td>0</td>\n",
       "      <td>0</td>\n",
       "      <td>0</td>\n",
       "      <td>0</td>\n",
       "      <td>0</td>\n",
       "      <td>0</td>\n",
       "      <td>0</td>\n",
       "      <td>0</td>\n",
       "      <td>0</td>\n",
       "      <td>0</td>\n",
       "      <td>0</td>\n",
       "      <td>0</td>\n",
       "      <td>1</td>\n",
       "      <td>0</td>\n",
       "      <td>0</td>\n",
       "      <td>0</td>\n",
       "      <td>0</td>\n",
       "      <td>0</td>\n",
       "      <td>0</td>\n",
       "      <td>0</td>\n",
       "      <td>0</td>\n",
       "      <td>0</td>\n",
       "      <td>0</td>\n",
       "      <td>0</td>\n",
       "      <td>0</td>\n",
       "      <td>0</td>\n",
       "      <td>0</td>\n",
       "      <td>0</td>\n",
       "      <td>1</td>\n",
       "      <td>0</td>\n",
       "      <td>0</td>\n",
       "      <td>0</td>\n",
       "      <td>0</td>\n",
       "      <td>0</td>\n",
       "      <td>1</td>\n",
       "      <td>0</td>\n",
       "      <td>0</td>\n",
       "      <td>0</td>\n",
       "      <td>0</td>\n",
       "      <td>0</td>\n",
       "      <td>0</td>\n",
       "      <td>0</td>\n",
       "      <td>0</td>\n",
       "      <td>0</td>\n",
       "      <td>1</td>\n",
       "      <td>0</td>\n",
       "      <td>0</td>\n",
       "      <td>0</td>\n",
       "      <td>0</td>\n",
       "      <td>0</td>\n",
       "      <td>0</td>\n",
       "      <td>0</td>\n",
       "      <td>0</td>\n",
       "      <td>0</td>\n",
       "      <td>0</td>\n",
       "      <td>0</td>\n",
       "      <td>0</td>\n",
       "    </tr>\n",
       "    <tr>\n",
       "      <th>7</th>\n",
       "      <td>0</td>\n",
       "      <td>0</td>\n",
       "      <td>0</td>\n",
       "      <td>0</td>\n",
       "      <td>0</td>\n",
       "      <td>0</td>\n",
       "      <td>0</td>\n",
       "      <td>0</td>\n",
       "      <td>0</td>\n",
       "      <td>0</td>\n",
       "      <td>0</td>\n",
       "      <td>0</td>\n",
       "      <td>0</td>\n",
       "      <td>0</td>\n",
       "      <td>0</td>\n",
       "      <td>0</td>\n",
       "      <td>0</td>\n",
       "      <td>0</td>\n",
       "      <td>0</td>\n",
       "      <td>0</td>\n",
       "      <td>0</td>\n",
       "      <td>0</td>\n",
       "      <td>0</td>\n",
       "      <td>0</td>\n",
       "      <td>0</td>\n",
       "      <td>0</td>\n",
       "      <td>0</td>\n",
       "      <td>0</td>\n",
       "      <td>0</td>\n",
       "      <td>0</td>\n",
       "      <td>0</td>\n",
       "      <td>0</td>\n",
       "      <td>0</td>\n",
       "      <td>0</td>\n",
       "      <td>0</td>\n",
       "      <td>0</td>\n",
       "      <td>0</td>\n",
       "      <td>0</td>\n",
       "      <td>1</td>\n",
       "      <td>0</td>\n",
       "      <td>0</td>\n",
       "      <td>0</td>\n",
       "      <td>1</td>\n",
       "      <td>0</td>\n",
       "      <td>1</td>\n",
       "      <td>0</td>\n",
       "      <td>0</td>\n",
       "      <td>0</td>\n",
       "      <td>0</td>\n",
       "      <td>0</td>\n",
       "      <td>0</td>\n",
       "      <td>0</td>\n",
       "      <td>0</td>\n",
       "      <td>0</td>\n",
       "      <td>1</td>\n",
       "      <td>0</td>\n",
       "      <td>0</td>\n",
       "      <td>0</td>\n",
       "      <td>0</td>\n",
       "      <td>0</td>\n",
       "      <td>0</td>\n",
       "      <td>0</td>\n",
       "      <td>0</td>\n",
       "      <td>0</td>\n",
       "      <td>0</td>\n",
       "      <td>0</td>\n",
       "      <td>0</td>\n",
       "    </tr>\n",
       "    <tr>\n",
       "      <th>8</th>\n",
       "      <td>1</td>\n",
       "      <td>0</td>\n",
       "      <td>0</td>\n",
       "      <td>0</td>\n",
       "      <td>0</td>\n",
       "      <td>0</td>\n",
       "      <td>0</td>\n",
       "      <td>0</td>\n",
       "      <td>0</td>\n",
       "      <td>0</td>\n",
       "      <td>0</td>\n",
       "      <td>1</td>\n",
       "      <td>0</td>\n",
       "      <td>0</td>\n",
       "      <td>0</td>\n",
       "      <td>0</td>\n",
       "      <td>0</td>\n",
       "      <td>0</td>\n",
       "      <td>0</td>\n",
       "      <td>0</td>\n",
       "      <td>0</td>\n",
       "      <td>0</td>\n",
       "      <td>0</td>\n",
       "      <td>0</td>\n",
       "      <td>0</td>\n",
       "      <td>0</td>\n",
       "      <td>0</td>\n",
       "      <td>0</td>\n",
       "      <td>0</td>\n",
       "      <td>0</td>\n",
       "      <td>0</td>\n",
       "      <td>0</td>\n",
       "      <td>0</td>\n",
       "      <td>0</td>\n",
       "      <td>0</td>\n",
       "      <td>0</td>\n",
       "      <td>0</td>\n",
       "      <td>0</td>\n",
       "      <td>1</td>\n",
       "      <td>0</td>\n",
       "      <td>0</td>\n",
       "      <td>0</td>\n",
       "      <td>0</td>\n",
       "      <td>0</td>\n",
       "      <td>0</td>\n",
       "      <td>0</td>\n",
       "      <td>0</td>\n",
       "      <td>0</td>\n",
       "      <td>0</td>\n",
       "      <td>0</td>\n",
       "      <td>0</td>\n",
       "      <td>0</td>\n",
       "      <td>0</td>\n",
       "      <td>0</td>\n",
       "      <td>1</td>\n",
       "      <td>0</td>\n",
       "      <td>0</td>\n",
       "      <td>0</td>\n",
       "      <td>0</td>\n",
       "      <td>0</td>\n",
       "      <td>0</td>\n",
       "      <td>0</td>\n",
       "      <td>0</td>\n",
       "      <td>0</td>\n",
       "      <td>1</td>\n",
       "      <td>0</td>\n",
       "      <td>0</td>\n",
       "    </tr>\n",
       "    <tr>\n",
       "      <th>9</th>\n",
       "      <td>0</td>\n",
       "      <td>0</td>\n",
       "      <td>0</td>\n",
       "      <td>0</td>\n",
       "      <td>0</td>\n",
       "      <td>0</td>\n",
       "      <td>0</td>\n",
       "      <td>0</td>\n",
       "      <td>1</td>\n",
       "      <td>0</td>\n",
       "      <td>0</td>\n",
       "      <td>0</td>\n",
       "      <td>0</td>\n",
       "      <td>0</td>\n",
       "      <td>0</td>\n",
       "      <td>0</td>\n",
       "      <td>0</td>\n",
       "      <td>0</td>\n",
       "      <td>0</td>\n",
       "      <td>0</td>\n",
       "      <td>0</td>\n",
       "      <td>0</td>\n",
       "      <td>0</td>\n",
       "      <td>0</td>\n",
       "      <td>0</td>\n",
       "      <td>0</td>\n",
       "      <td>0</td>\n",
       "      <td>0</td>\n",
       "      <td>0</td>\n",
       "      <td>0</td>\n",
       "      <td>0</td>\n",
       "      <td>0</td>\n",
       "      <td>0</td>\n",
       "      <td>0</td>\n",
       "      <td>0</td>\n",
       "      <td>0</td>\n",
       "      <td>0</td>\n",
       "      <td>0</td>\n",
       "      <td>1</td>\n",
       "      <td>0</td>\n",
       "      <td>0</td>\n",
       "      <td>0</td>\n",
       "      <td>1</td>\n",
       "      <td>0</td>\n",
       "      <td>1</td>\n",
       "      <td>0</td>\n",
       "      <td>0</td>\n",
       "      <td>0</td>\n",
       "      <td>0</td>\n",
       "      <td>0</td>\n",
       "      <td>0</td>\n",
       "      <td>0</td>\n",
       "      <td>0</td>\n",
       "      <td>0</td>\n",
       "      <td>1</td>\n",
       "      <td>0</td>\n",
       "      <td>0</td>\n",
       "      <td>0</td>\n",
       "      <td>0</td>\n",
       "      <td>0</td>\n",
       "      <td>0</td>\n",
       "      <td>0</td>\n",
       "      <td>0</td>\n",
       "      <td>0</td>\n",
       "      <td>0</td>\n",
       "      <td>0</td>\n",
       "      <td>0</td>\n",
       "    </tr>\n",
       "  </tbody>\n",
       "</table>\n",
       "</div>"
      ],
      "text/plain": [
       "   News & Politics  Hobbies  Personal Journals  Higher Education  Sexuality  \\\n",
       "1                0        0                  0                 0          0   \n",
       "3                0        0                  0                 0          0   \n",
       "7                0        0                  0                 0          0   \n",
       "8                1        0                  0                 0          0   \n",
       "9                0        0                  0                 0          0   \n",
       "\n",
       "   Buddhism  Careers  Other  Podcasting  Other Games  Social Sciences  \\\n",
       "1         0        0      0           0            0                0   \n",
       "3         0        0      0           0            0                0   \n",
       "7         0        0      0           0            0                0   \n",
       "8         0        0      0           0            0                0   \n",
       "9         0        0      0           1            0                0   \n",
       "\n",
       "   Software How-To  Medicine  Education  Judaism  Regional  Investing  \\\n",
       "1                0         0          0        0         0          0   \n",
       "3                0         0          0        0         0          0   \n",
       "7                0         0          0        0         0          0   \n",
       "8                1         0          0        0         0          0   \n",
       "9                0         0          0        0         0          0   \n",
       "\n",
       "   Games & Hobbies  National  Local  Alternative Health  Training  \\\n",
       "1                0         0      0                   0         0   \n",
       "3                0         0      0                   0         0   \n",
       "7                0         0      0                   0         0   \n",
       "8                0         0      0                   0         0   \n",
       "9                0         0      0                   0         0   \n",
       "\n",
       "   Business News  Self-Help  Fitness & Nutrition  Philosophy  Health  \\\n",
       "1              0          0                    0           0       0   \n",
       "3              1          0                    0           0       0   \n",
       "7              0          0                    0           0       0   \n",
       "8              0          0                    0           0       0   \n",
       "9              0          0                    0           0       0   \n",
       "\n",
       "   Language Courses  History  Amateur  Society & Culture  Shopping  Outdoor  \\\n",
       "1                 0        0        0                  0         0        0   \n",
       "3                 0        0        0                  0         0        0   \n",
       "7                 0        0        0                  0         0        0   \n",
       "8                 0        0        0                  0         0        0   \n",
       "9                 0        0        0                  0         0        0   \n",
       "\n",
       "   Spirituality  Places & Travel  Islam  Science & Medicine  Arts  Technology  \\\n",
       "1             0                0      0                   0     0           1   \n",
       "3             0                0      0                   0     0           1   \n",
       "7             0                0      0                   0     0           1   \n",
       "8             0                0      0                   0     0           1   \n",
       "9             0                0      0                   0     0           1   \n",
       "\n",
       "   Design  Comedy  Literature  Management & Marketing  Visual Arts  Business  \\\n",
       "1       0       0           0                       0            0         0   \n",
       "3       0       0           0                       0            0         1   \n",
       "7       0       0           0                       1            0         1   \n",
       "8       0       0           0                       0            0         0   \n",
       "9       0       0           0                       1            0         1   \n",
       "\n",
       "   Government & Organizations  Food  Christianity  Non-Profit  Video Games  \\\n",
       "1                           0     0             0           0            0   \n",
       "3                           0     0             0           0            0   \n",
       "7                           0     0             0           0            0   \n",
       "8                           0     0             0           0            0   \n",
       "9                           0     0             0           0            0   \n",
       "\n",
       "   Performing Arts  Religion & Spirituality  K-12  TV & Film  Tech News  \\\n",
       "1                0                        0     0          0          1   \n",
       "3                0                        0     0          0          1   \n",
       "7                0                        0     0          0          1   \n",
       "8                0                        0     0          0          1   \n",
       "9                0                        0     0          0          1   \n",
       "\n",
       "   Educational Technology  Fashion & Beauty  Sports & Recreation  Hinduism  \\\n",
       "1                       0                 0                    0         0   \n",
       "3                       0                 0                    0         0   \n",
       "7                       0                 0                    0         0   \n",
       "8                       0                 0                    0         0   \n",
       "9                       0                 0                    0         0   \n",
       "\n",
       "   Natural Sciences  Kids & Family  College & High School  Aviation  \\\n",
       "1                 0              0                      0         0   \n",
       "3                 0              0                      0         0   \n",
       "7                 0              0                      0         0   \n",
       "8                 0              0                      0         0   \n",
       "9                 0              0                      0         0   \n",
       "\n",
       "   Professional  Gadgets  Automotive  Music  \n",
       "1             0        0           0      0  \n",
       "3             0        0           0      0  \n",
       "7             0        0           0      0  \n",
       "8             0        1           0      0  \n",
       "9             0        0           0      0  "
      ]
     },
     "execution_count": 19,
     "metadata": {},
     "output_type": "execute_result"
    }
   ],
   "source": [
    "category_df.head()"
   ]
  },
  {
   "cell_type": "code",
   "execution_count": 20,
   "metadata": {},
   "outputs": [],
   "source": [
    "category_df = category_df / 125"
   ]
  },
  {
   "cell_type": "markdown",
   "metadata": {},
   "source": [
    "Due to the dominance of the categories matrix, added takes a larger precendence when generating recommendations. Hence, the categories matrix is manually standardized in the cell above. The reason for the standardization process done manually is because there were some constraints and limitations in the data dimensions when considered using scaling techniques such as StandardScaler, MinMaxAbs and MaxAbs. "
   ]
  },
  {
   "cell_type": "markdown",
   "metadata": {},
   "source": [
    "#### Generating recommendations "
   ]
  },
  {
   "cell_type": "code",
   "execution_count": 21,
   "metadata": {},
   "outputs": [],
   "source": [
    "podcasts['description'] = podcasts['description'].astype(str)"
   ]
  },
  {
   "cell_type": "code",
   "execution_count": 22,
   "metadata": {},
   "outputs": [
    {
     "data": {
      "text/plain": [
       "(59322, 10)"
      ]
     },
     "execution_count": 22,
     "metadata": {},
     "output_type": "execute_result"
    }
   ],
   "source": [
    "podcasts.shape"
   ]
  },
  {
   "cell_type": "code",
   "execution_count": 23,
   "metadata": {},
   "outputs": [],
   "source": [
    "podcasts = podcasts.reset_index()"
   ]
  },
  {
   "cell_type": "code",
   "execution_count": 24,
   "metadata": {},
   "outputs": [
    {
     "data": {
      "text/html": [
       "<div>\n",
       "<style scoped>\n",
       "    .dataframe tbody tr th:only-of-type {\n",
       "        vertical-align: middle;\n",
       "    }\n",
       "\n",
       "    .dataframe tbody tr th {\n",
       "        vertical-align: top;\n",
       "    }\n",
       "\n",
       "    .dataframe thead th {\n",
       "        text-align: right;\n",
       "    }\n",
       "</style>\n",
       "<table border=\"1\" class=\"dataframe\">\n",
       "  <thead>\n",
       "    <tr style=\"text-align: right;\">\n",
       "      <th></th>\n",
       "      <th>index</th>\n",
       "      <th>uuid</th>\n",
       "      <th>title</th>\n",
       "      <th>image</th>\n",
       "      <th>description</th>\n",
       "      <th>language</th>\n",
       "      <th>categories</th>\n",
       "      <th>website</th>\n",
       "      <th>author</th>\n",
       "      <th>itunes_id</th>\n",
       "      <th>description_length</th>\n",
       "    </tr>\n",
       "  </thead>\n",
       "  <tbody>\n",
       "    <tr>\n",
       "      <th>0</th>\n",
       "      <td>1</td>\n",
       "      <td>cbbefd691915468c90f87ab2f00473f9</td>\n",
       "      <td>Eat Sleep Code Podcast</td>\n",
       "      <td>http://is4.mzstatic.com/image/thumb/Music71/v4...</td>\n",
       "      <td>On the show we’ll be talking to passionate peo...</td>\n",
       "      <td>English</td>\n",
       "      <td>Tech News | Technology</td>\n",
       "      <td>http://developer.telerik.com/</td>\n",
       "      <td>Telerik</td>\n",
       "      <td>1015556393</td>\n",
       "      <td>59</td>\n",
       "    </tr>\n",
       "    <tr>\n",
       "      <th>1</th>\n",
       "      <td>3</td>\n",
       "      <td>0f50631ebad24cedb2fee80950f37a1a</td>\n",
       "      <td>The Tech M&amp;A Podcast</td>\n",
       "      <td>http://is1.mzstatic.com/image/thumb/Music71/v4...</td>\n",
       "      <td>The Tech M&amp;A Podcast pulls from the best of th...</td>\n",
       "      <td>English</td>\n",
       "      <td>Business News | Technology | Tech News | Business</td>\n",
       "      <td>http://www.corumgroup.com</td>\n",
       "      <td>Timothy Goddard</td>\n",
       "      <td>538160025</td>\n",
       "      <td>59</td>\n",
       "    </tr>\n",
       "    <tr>\n",
       "      <th>2</th>\n",
       "      <td>7</td>\n",
       "      <td>f4d85755dd6048978f27681ed59a20fe</td>\n",
       "      <td>Social Media, Mobility, Analytics, Cloud: Tech...</td>\n",
       "      <td>http://is2.mzstatic.com/image/thumb/Music118/v...</td>\n",
       "      <td>SMACtalk hosted by Brian Fanzo and Daniel Newm...</td>\n",
       "      <td>English</td>\n",
       "      <td>Management &amp; Marketing | Business | Technology...</td>\n",
       "      <td>http://smactalklive.live</td>\n",
       "      <td>Brian Fanzo &amp; Daniel Newman</td>\n",
       "      <td>953547333</td>\n",
       "      <td>52</td>\n",
       "    </tr>\n",
       "  </tbody>\n",
       "</table>\n",
       "</div>"
      ],
      "text/plain": [
       "   index                              uuid  \\\n",
       "0      1  cbbefd691915468c90f87ab2f00473f9   \n",
       "1      3  0f50631ebad24cedb2fee80950f37a1a   \n",
       "2      7  f4d85755dd6048978f27681ed59a20fe   \n",
       "\n",
       "                                               title  \\\n",
       "0                             Eat Sleep Code Podcast   \n",
       "1                               The Tech M&A Podcast   \n",
       "2  Social Media, Mobility, Analytics, Cloud: Tech...   \n",
       "\n",
       "                                               image  \\\n",
       "0  http://is4.mzstatic.com/image/thumb/Music71/v4...   \n",
       "1  http://is1.mzstatic.com/image/thumb/Music71/v4...   \n",
       "2  http://is2.mzstatic.com/image/thumb/Music118/v...   \n",
       "\n",
       "                                         description language  \\\n",
       "0  On the show we’ll be talking to passionate peo...  English   \n",
       "1  The Tech M&A Podcast pulls from the best of th...  English   \n",
       "2  SMACtalk hosted by Brian Fanzo and Daniel Newm...  English   \n",
       "\n",
       "                                          categories  \\\n",
       "0                             Tech News | Technology   \n",
       "1  Business News | Technology | Tech News | Business   \n",
       "2  Management & Marketing | Business | Technology...   \n",
       "\n",
       "                         website                       author   itunes_id  \\\n",
       "0  http://developer.telerik.com/                      Telerik  1015556393   \n",
       "1      http://www.corumgroup.com              Timothy Goddard   538160025   \n",
       "2       http://smactalklive.live  Brian Fanzo & Daniel Newman   953547333   \n",
       "\n",
       "   description_length  \n",
       "0                  59  \n",
       "1                  59  \n",
       "2                  52  "
      ]
     },
     "execution_count": 24,
     "metadata": {},
     "output_type": "execute_result"
    }
   ],
   "source": [
    "podcasts.head(3)"
   ]
  },
  {
   "cell_type": "markdown",
   "metadata": {},
   "source": [
    "### TF_IDFVectorizer test"
   ]
  },
  {
   "cell_type": "code",
   "execution_count": 25,
   "metadata": {},
   "outputs": [],
   "source": [
    "# %%time\n",
    "# # play around with the max_features to see which gives better recommendations \n",
    "\n",
    "# tf = TfidfVectorizer(analyzer = 'word', ngram_range = (1, 2), max_features = 5000, stop_words = \"english\")\n",
    "# tf_idf = tf.fit_transform(podcasts['description'])\n",
    "# tf_idf"
   ]
  },
  {
   "cell_type": "markdown",
   "metadata": {},
   "source": [
    "### CountVectorizer test"
   ]
  },
  {
   "cell_type": "code",
   "execution_count": 26,
   "metadata": {},
   "outputs": [
    {
     "name": "stdout",
     "output_type": "stream",
     "text": [
      "CPU times: user 9.12 s, sys: 283 ms, total: 9.4 s\n",
      "Wall time: 9.4 s\n"
     ]
    },
    {
     "data": {
      "text/plain": [
       "<59322x5000 sparse matrix of type '<class 'numpy.int64'>'\n",
       "\twith 1428214 stored elements in Compressed Sparse Row format>"
      ]
     },
     "execution_count": 26,
     "metadata": {},
     "output_type": "execute_result"
    }
   ],
   "source": [
    "%%time\n",
    "# play around with the max_features to see which gives better recommendations \n",
    "\n",
    "cvec = CountVectorizer(analyzer = 'word', ngram_range = (1, 2), max_features = 5000, stop_words = \"english\")\n",
    "cvec = cvec.fit_transform(podcasts['description'])\n",
    "cvec"
   ]
  },
  {
   "cell_type": "markdown",
   "metadata": {},
   "source": [
    "### Concatenating vectorized sparse matrix with categories matrix"
   ]
  },
  {
   "cell_type": "code",
   "execution_count": 27,
   "metadata": {},
   "outputs": [
    {
     "data": {
      "text/plain": [
       "(59322, 67)"
      ]
     },
     "execution_count": 27,
     "metadata": {},
     "output_type": "execute_result"
    }
   ],
   "source": [
    "category_array = category_df.to_numpy()\n",
    "sparse_category = sparse.csr_matrix(category_array)\n",
    "sparse_category.shape"
   ]
  },
  {
   "cell_type": "code",
   "execution_count": 28,
   "metadata": {},
   "outputs": [],
   "source": [
    "# tf_idf = hstack([tf_idf, sparse_category])"
   ]
  },
  {
   "cell_type": "code",
   "execution_count": 29,
   "metadata": {},
   "outputs": [],
   "source": [
    "cvec = hstack([cvec, sparse_category])"
   ]
  },
  {
   "cell_type": "code",
   "execution_count": 30,
   "metadata": {},
   "outputs": [],
   "source": [
    "# %%time \n",
    "# similarity_matrix_t = cosine_similarity(tf_idf, dense_output=False)"
   ]
  },
  {
   "cell_type": "code",
   "execution_count": 31,
   "metadata": {},
   "outputs": [
    {
     "name": "stdout",
     "output_type": "stream",
     "text": [
      "CPU times: user 46.7 s, sys: 7.57 s, total: 54.2 s\n",
      "Wall time: 55.4 s\n"
     ]
    }
   ],
   "source": [
    "%%time \n",
    "similarity_matrix_c = cosine_similarity(cvec, dense_output=False)"
   ]
  },
  {
   "cell_type": "code",
   "execution_count": 32,
   "metadata": {},
   "outputs": [],
   "source": [
    "# similarity_matrix_t.shape"
   ]
  },
  {
   "cell_type": "code",
   "execution_count": 33,
   "metadata": {},
   "outputs": [
    {
     "data": {
      "text/plain": [
       "(59322, 59322)"
      ]
     },
     "execution_count": 33,
     "metadata": {},
     "output_type": "execute_result"
    }
   ],
   "source": [
    "similarity_matrix_c.shape"
   ]
  },
  {
   "cell_type": "markdown",
   "metadata": {},
   "source": [
    "### Top 5 Recommended Podcast Picks"
   ]
  },
  {
   "cell_type": "markdown",
   "metadata": {},
   "source": [
    "#### TFIDF Vectorize Recommendations "
   ]
  },
  {
   "cell_type": "code",
   "execution_count": 34,
   "metadata": {
    "scrolled": false
   },
   "outputs": [],
   "source": [
    "# x = podcasts[podcasts.title == '99% Invisible'].index[0]\n",
    "# podcast_similarities = similarity_matrix_t[x].todense()\n",
    "# similar_idx = podcast_similarities.argsort(axis=None)[:,-6:-1]\n",
    "# for i in range(4,-1,-1):\n",
    "#     print(podcast_similarities.item(similar_idx.item(i)), '-', podcasts.title[similar_idx.item(i)], '-', podcasts.description[similar_idx.item(i)], '\\n')\n",
    "# print('Original - ' + podcasts.title[x] + ' -' + podcasts.description[x])"
   ]
  },
  {
   "cell_type": "markdown",
   "metadata": {},
   "source": [
    "#### CountVectorize Recommendations"
   ]
  },
  {
   "cell_type": "code",
   "execution_count": 35,
   "metadata": {},
   "outputs": [
    {
     "name": "stdout",
     "output_type": "stream",
     "text": [
      "0.6694359441465276 - Benjamen Walker's Theory of Everything - \n",
      "      Personally connecting the dots. All of them.  <a href=\"http://toe.prx.org\">Benjamen Walker's Theory of Everything</a> is a proud member of Radiotopia, from PRX. Learn more at <a href=\"http://radiotopia.fm/\">radiotopia.fm</a>.\n",
      "     \n",
      "\n",
      "0.6128240249379643 - Radio Diaries - \n",
      "      First-person diaries, sound portraits, and hidden chapters of history from Peabody Award-winning producer Joe Richman and the Radio Diaries team. From teenagers to octogenarians, prisoners to prison guards, bra saleswomen to lighthouse keepers. The extraordinary stories of ordinary life.  <a href=\"http://www.radiodiaries.org\">Radio Diaries</a> is a proud member of Radiotopia, from PRX. Learn more at <a href=\"http://radiotopia.fm/\">radiotopia.fm</a>.\n",
      "     \n",
      "\n",
      "0.5477203179380679 - The Heart - <a href=\"http://www.theheartradio.org\">The Heart</a> is an audio art project about intimacy and humanity. A proud member of <a href=\"http://radiotopia.fm/\">Radiotopia</a> from PRX. \n",
      "\n",
      "0.511308302908249 - The Mortified Podcast - \n",
      "      The Mortified Podcast is a storytelling series where adults share the embarrassing things they created as kids—diaries, letters, lyrics &amp; beyond—in front of total strangers. PS: It totally likes you.  <a href=\"http://getmortified.com\">Mortified</a> is a proud member of Radiotopia, from PRX. Learn more at <a href=\"http://radiotopia.fm/\">radiotopia.fm</a>.\n",
      "     \n",
      "\n",
      "0.5031140762834015 - Strangers - From Lea Thau, Peabody award-winning producer and creator of The Moth Podcast and The Moth Radio Hour, comes her new storytelling baby, Strangers, part of KCRW's Independent Producer Project. Each episode is an empathy shot in your arm, featuring true stories about the people we meet, the connections we make, the heartbreaks we suffer, the kindnesses we encounter, and those frightful moments when we discover that WE aren't even who we thought we were.  <a href=\"http://www.storycentral.org/strangers/\">Strangers</a> is a proud member of Radiotopia, from PRX. Learn more at <a href=\"http://radiotopia.fm/\">radiotopia.fm</a>. \n",
      "\n",
      "Original - 99% Invisible -\n",
      "      Design is everywhere in our lives, perhaps most importantly in the places where we've just stopped noticing. 99% Invisible is a weekly exploration of the process and power of design and architecture. From award winning producer Roman Mars. Learn more at <a href=\"http://99percentinvisible.org\">99percentinvisible.org</a>.\n",
      "A proud member of Radiotopia, from PRX. Learn more at <a href=\"http://radiotopia.fm/\">radiotopia.fm</a>.\n",
      "    \n"
     ]
    }
   ],
   "source": [
    "x = podcasts[podcasts.title == '99% Invisible'].index[0]\n",
    "podcast_similarities = similarity_matrix_c[x].todense()\n",
    "similar_idx = podcast_similarities.argsort(axis=None)[:,-6:-1]\n",
    "for i in range(4,-1,-1):\n",
    "    print(podcast_similarities.item(similar_idx.item(i)), '-', podcasts.title[similar_idx.item(i)], '-', podcasts.description[similar_idx.item(i)], '\\n')\n",
    "print('Original - ' + podcasts.title[x] + ' -' + podcasts.description[x])"
   ]
  },
  {
   "cell_type": "code",
   "execution_count": null,
   "metadata": {},
   "outputs": [],
   "source": []
  },
  {
   "cell_type": "code",
   "execution_count": 36,
   "metadata": {},
   "outputs": [],
   "source": [
    "# podcast_similarities.item(i)\n",
    "# similar_idx.item(i)"
   ]
  },
  {
   "cell_type": "markdown",
   "metadata": {},
   "source": [
    "### Generating for whole recommendations for all available podcast data"
   ]
  },
  {
   "cell_type": "markdown",
   "metadata": {},
   "source": [
    "#### Solving an index 0 is out of bounds for axis 0 with size 0"
   ]
  },
  {
   "cell_type": "code",
   "execution_count": 37,
   "metadata": {},
   "outputs": [
    {
     "data": {
      "text/plain": [
       "index                                                             57234\n",
       "uuid                                   d67c6effe2214f30ada75d3351834cd4\n",
       "title                                                               NaN\n",
       "image                 http://is1.mzstatic.com/image/thumb/Music111/v...\n",
       "description           Nole, Chris, and Terrence sit around a few mic...\n",
       "language                                                        English\n",
       "categories            Video Games | Games & Hobbies | Society & Culture\n",
       "website                                  https://napodcast.fireside.fm/\n",
       "author                                                              PPN\n",
       "itunes_id                                                    1224670344\n",
       "description_length                                                   23\n",
       "Name: 28001, dtype: object"
      ]
     },
     "execution_count": 37,
     "metadata": {},
     "output_type": "execute_result"
    }
   ],
   "source": [
    "podcasts.iloc[28001]"
   ]
  },
  {
   "cell_type": "code",
   "execution_count": 38,
   "metadata": {},
   "outputs": [
    {
     "name": "stderr",
     "output_type": "stream",
     "text": [
      "/opt/anaconda3/lib/python3.7/site-packages/pandas/core/indexing.py:671: SettingWithCopyWarning: \n",
      "A value is trying to be set on a copy of a slice from a DataFrame\n",
      "\n",
      "See the caveats in the documentation: https://pandas.pydata.org/pandas-docs/stable/user_guide/indexing.html#returning-a-view-versus-a-copy\n",
      "  self._setitem_with_indexer(indexer, value)\n"
     ]
    }
   ],
   "source": [
    "podcasts.title.iloc[28001] = 'NAN'"
   ]
  },
  {
   "cell_type": "code",
   "execution_count": 39,
   "metadata": {},
   "outputs": [
    {
     "data": {
      "text/plain": [
       "index                                                             57234\n",
       "uuid                                   d67c6effe2214f30ada75d3351834cd4\n",
       "title                                                               NAN\n",
       "image                 http://is1.mzstatic.com/image/thumb/Music111/v...\n",
       "description           Nole, Chris, and Terrence sit around a few mic...\n",
       "language                                                        English\n",
       "categories            Video Games | Games & Hobbies | Society & Culture\n",
       "website                                  https://napodcast.fireside.fm/\n",
       "author                                                              PPN\n",
       "itunes_id                                                    1224670344\n",
       "description_length                                                   23\n",
       "Name: 28001, dtype: object"
      ]
     },
     "execution_count": 39,
     "metadata": {},
     "output_type": "execute_result"
    }
   ],
   "source": [
    "podcasts.iloc[28001]"
   ]
  },
  {
   "cell_type": "code",
   "execution_count": 40,
   "metadata": {},
   "outputs": [],
   "source": [
    "# %%time\n",
    "# rec_db = {}\n",
    "# for podcast in podcasts.title:\n",
    "#     # unpacks information on respective podcast and saves info into a dictionary\n",
    "#     ref_podcast = podcasts[podcasts.title == podcast].index[0] \n",
    "#     x = ref_podcast\n",
    "#     podcast_similarities = similarity_matrix_c[x].todense()\n",
    "#     similar_idx = podcast_similarities.argsort(axis=None)[:,-6:-1]\n",
    "#     rec_db[podcast] = podcasts.title[similar_idx.tolist()[0]].tolist()\n",
    "\n",
    "# # convert dictionary to dataframe\n",
    "# rec_db = pd.DataFrame(rec_db)\n",
    "    "
   ]
  },
  {
   "cell_type": "code",
   "execution_count": 41,
   "metadata": {},
   "outputs": [
    {
     "data": {
      "text/plain": [
       "index                   0\n",
       "uuid                    0\n",
       "title                   0\n",
       "image                   0\n",
       "description             0\n",
       "language                0\n",
       "categories              0\n",
       "website               607\n",
       "author                722\n",
       "itunes_id               0\n",
       "description_length      0\n",
       "dtype: int64"
      ]
     },
     "execution_count": 41,
     "metadata": {},
     "output_type": "execute_result"
    }
   ],
   "source": [
    "podcasts.isnull().sum()"
   ]
  },
  {
   "cell_type": "code",
   "execution_count": 42,
   "metadata": {},
   "outputs": [
    {
     "data": {
      "text/plain": [
       "(59322, 11)"
      ]
     },
     "execution_count": 42,
     "metadata": {},
     "output_type": "execute_result"
    }
   ],
   "source": [
    "podcasts.shape"
   ]
  },
  {
   "cell_type": "code",
   "execution_count": 43,
   "metadata": {},
   "outputs": [],
   "source": [
    "# podcasts.to_csv('../data/podcast_data_cleaned.csv', index=False)"
   ]
  },
  {
   "cell_type": "markdown",
   "metadata": {},
   "source": [
    "#### Look up function from recommendations database"
   ]
  },
  {
   "cell_type": "code",
   "execution_count": 44,
   "metadata": {},
   "outputs": [],
   "source": [
    "df = pd.read_csv('../data/recommendations_database_cvec.csv')"
   ]
  },
  {
   "cell_type": "code",
   "execution_count": 45,
   "metadata": {},
   "outputs": [],
   "source": [
    "df = df.rename(columns={\"Unnamed: 0\": \"ref_podcast\", \n",
    "                   \"0\": \"first_rec\",\n",
    "                   \"1\": \"second_rec\",\n",
    "                   \"2\": \"third_rec\",\n",
    "                   \"3\": \"fourth_rec\",\n",
    "                   \"4\": \"fifth_rec\"})"
   ]
  },
  {
   "cell_type": "code",
   "execution_count": 46,
   "metadata": {},
   "outputs": [
    {
     "data": {
      "text/html": [
       "<div>\n",
       "<style scoped>\n",
       "    .dataframe tbody tr th:only-of-type {\n",
       "        vertical-align: middle;\n",
       "    }\n",
       "\n",
       "    .dataframe tbody tr th {\n",
       "        vertical-align: top;\n",
       "    }\n",
       "\n",
       "    .dataframe thead th {\n",
       "        text-align: right;\n",
       "    }\n",
       "</style>\n",
       "<table border=\"1\" class=\"dataframe\">\n",
       "  <thead>\n",
       "    <tr style=\"text-align: right;\">\n",
       "      <th></th>\n",
       "      <th>ref_podcast</th>\n",
       "      <th>first_rec</th>\n",
       "      <th>second_rec</th>\n",
       "      <th>third_rec</th>\n",
       "      <th>fourth_rec</th>\n",
       "      <th>fifth_rec</th>\n",
       "    </tr>\n",
       "  </thead>\n",
       "  <tbody>\n",
       "    <tr>\n",
       "      <th>0</th>\n",
       "      <td>Eat Sleep Code Podcast</td>\n",
       "      <td>Stackify Developer Things</td>\n",
       "      <td>The freeCodeCamp Podcast</td>\n",
       "      <td>Oracle Developer Podcast</td>\n",
       "      <td>Storage Developer Conference</td>\n",
       "      <td>Complete Developer Podcast</td>\n",
       "    </tr>\n",
       "    <tr>\n",
       "      <th>1</th>\n",
       "      <td>The Tech M&amp;A Podcast</td>\n",
       "      <td>Technocrats (Audio)</td>\n",
       "      <td>Tech Reformation</td>\n",
       "      <td>Ado Veli Podcast</td>\n",
       "      <td>Speaking in Tech</td>\n",
       "      <td>The TechBox</td>\n",
       "    </tr>\n",
       "    <tr>\n",
       "      <th>2</th>\n",
       "      <td>Social Media, Mobility, Analytics, Cloud: Tech...</td>\n",
       "      <td>Two Cracked Pots</td>\n",
       "      <td>The Communicators</td>\n",
       "      <td>Lanced Podcast</td>\n",
       "      <td>Technology Wizard</td>\n",
       "      <td>The Cloudcast (.net) - Weekly Cloud Computing ...</td>\n",
       "    </tr>\n",
       "    <tr>\n",
       "      <th>3</th>\n",
       "      <td>Radio Leo (Video LO)</td>\n",
       "      <td>Aggregate Feed - LoadingReadyRun</td>\n",
       "      <td>Melted Chocolate Master Feed</td>\n",
       "      <td>Radio Leo (Video LO)</td>\n",
       "      <td>Radio Leo (Video HD)</td>\n",
       "      <td>Radio Leo (MP3)</td>\n",
       "    </tr>\n",
       "    <tr>\n",
       "      <th>4</th>\n",
       "      <td>Digital India</td>\n",
       "      <td>AMPUP Your Digital Marketing</td>\n",
       "      <td>Social Media Talks Podcast Kompass Media</td>\n",
       "      <td>The Science of Social Media</td>\n",
       "      <td>VADEMECUM BLOGERA</td>\n",
       "      <td>The EchoJunction Podcast with Adam Fraser</td>\n",
       "    </tr>\n",
       "  </tbody>\n",
       "</table>\n",
       "</div>"
      ],
      "text/plain": [
       "                                         ref_podcast  \\\n",
       "0                             Eat Sleep Code Podcast   \n",
       "1                               The Tech M&A Podcast   \n",
       "2  Social Media, Mobility, Analytics, Cloud: Tech...   \n",
       "3                               Radio Leo (Video LO)   \n",
       "4                                      Digital India   \n",
       "\n",
       "                          first_rec                                second_rec  \\\n",
       "0         Stackify Developer Things                  The freeCodeCamp Podcast   \n",
       "1               Technocrats (Audio)                          Tech Reformation   \n",
       "2                  Two Cracked Pots                         The Communicators   \n",
       "3  Aggregate Feed - LoadingReadyRun              Melted Chocolate Master Feed   \n",
       "4      AMPUP Your Digital Marketing  Social Media Talks Podcast Kompass Media   \n",
       "\n",
       "                     third_rec                    fourth_rec  \\\n",
       "0     Oracle Developer Podcast  Storage Developer Conference   \n",
       "1             Ado Veli Podcast              Speaking in Tech   \n",
       "2               Lanced Podcast             Technology Wizard   \n",
       "3         Radio Leo (Video LO)          Radio Leo (Video HD)   \n",
       "4  The Science of Social Media             VADEMECUM BLOGERA   \n",
       "\n",
       "                                           fifth_rec  \n",
       "0                         Complete Developer Podcast  \n",
       "1                                        The TechBox  \n",
       "2  The Cloudcast (.net) - Weekly Cloud Computing ...  \n",
       "3                                    Radio Leo (MP3)  \n",
       "4          The EchoJunction Podcast with Adam Fraser  "
      ]
     },
     "execution_count": 46,
     "metadata": {},
     "output_type": "execute_result"
    }
   ],
   "source": [
    "df.head()"
   ]
  },
  {
   "cell_type": "code",
   "execution_count": 47,
   "metadata": {},
   "outputs": [],
   "source": [
    "def recommendation_lookup(rec_db, podcast_title):\n",
    "    return rec_db[rec_db['ref_podcast'] == podcast_title]"
   ]
  },
  {
   "cell_type": "code",
   "execution_count": 48,
   "metadata": {},
   "outputs": [
    {
     "data": {
      "text/html": [
       "<div>\n",
       "<style scoped>\n",
       "    .dataframe tbody tr th:only-of-type {\n",
       "        vertical-align: middle;\n",
       "    }\n",
       "\n",
       "    .dataframe tbody tr th {\n",
       "        vertical-align: top;\n",
       "    }\n",
       "\n",
       "    .dataframe thead th {\n",
       "        text-align: right;\n",
       "    }\n",
       "</style>\n",
       "<table border=\"1\" class=\"dataframe\">\n",
       "  <thead>\n",
       "    <tr style=\"text-align: right;\">\n",
       "      <th></th>\n",
       "      <th>ref_podcast</th>\n",
       "      <th>first_rec</th>\n",
       "      <th>second_rec</th>\n",
       "      <th>third_rec</th>\n",
       "      <th>fourth_rec</th>\n",
       "      <th>fifth_rec</th>\n",
       "    </tr>\n",
       "  </thead>\n",
       "  <tbody>\n",
       "    <tr>\n",
       "      <th>25727</th>\n",
       "      <td>99% Invisible</td>\n",
       "      <td>Strangers</td>\n",
       "      <td>The Mortified Podcast</td>\n",
       "      <td>The Heart</td>\n",
       "      <td>Radio Diaries</td>\n",
       "      <td>Benjamen Walker's Theory of Everything</td>\n",
       "    </tr>\n",
       "  </tbody>\n",
       "</table>\n",
       "</div>"
      ],
      "text/plain": [
       "         ref_podcast  first_rec             second_rec  third_rec  \\\n",
       "25727  99% Invisible  Strangers  The Mortified Podcast  The Heart   \n",
       "\n",
       "          fourth_rec                               fifth_rec  \n",
       "25727  Radio Diaries  Benjamen Walker's Theory of Everything  "
      ]
     },
     "execution_count": 48,
     "metadata": {},
     "output_type": "execute_result"
    }
   ],
   "source": [
    "recommendation_lookup(df, '99% Invisible')"
   ]
  },
  {
   "cell_type": "code",
   "execution_count": 49,
   "metadata": {},
   "outputs": [],
   "source": [
    "# This website function just pulls from a saved database and prints out recs"
   ]
  },
  {
   "cell_type": "markdown",
   "metadata": {},
   "source": [
    "### Recommendations for unseen data"
   ]
  },
  {
   "cell_type": "markdown",
   "metadata": {},
   "source": [
    "**NOTE**: Reset kernel before proceeding."
   ]
  },
  {
   "cell_type": "code",
   "execution_count": 50,
   "metadata": {},
   "outputs": [],
   "source": [
    "podcasts_z = pd.read_csv('../data/podcast_data_cleaned.csv')"
   ]
  },
  {
   "cell_type": "code",
   "execution_count": 51,
   "metadata": {},
   "outputs": [
    {
     "data": {
      "text/plain": [
       "(76480, 11)"
      ]
     },
     "execution_count": 51,
     "metadata": {},
     "output_type": "execute_result"
    }
   ],
   "source": [
    "podcasts_z.shape"
   ]
  },
  {
   "cell_type": "code",
   "execution_count": 52,
   "metadata": {},
   "outputs": [
    {
     "data": {
      "text/plain": [
       "index                     0\n",
       "uuid                      3\n",
       "title                     3\n",
       "image                 17157\n",
       "description           17157\n",
       "language              17158\n",
       "categories            17159\n",
       "website               17766\n",
       "author                17880\n",
       "itunes_id             17162\n",
       "description_length    17162\n",
       "dtype: int64"
      ]
     },
     "execution_count": 52,
     "metadata": {},
     "output_type": "execute_result"
    }
   ],
   "source": [
    "podcasts_z.isnull().sum()"
   ]
  },
  {
   "cell_type": "code",
   "execution_count": 53,
   "metadata": {},
   "outputs": [],
   "source": [
    "# PROCESS \n",
    "# search for podcast in database, if it doesn't appear in the search bar,\n",
    "# try other option 'Recommend based on Unseen Data'\n",
    "# I.E: enter your podcast title, short description (preferably 20 words, can be just key words) and the one of these categories (drop down menu)\n",
    "\n",
    "# possible bug, what if the person enters an existing podcast into the alternative option? case sensi or not,\n",
    "# stops the person from entering an existing podcast. [something like that~~]\n",
    "new_podcast_title = 'Wait, Hold Up!' \n",
    "new_podcast_description = 'Each week, tune in as Yarel and Jessica interview people you know (or who they think you should know) who are on their grind and learn the ''wait, hold up'' moments that changed their lives. When they''re not with a guest they''re diving into the latest in pop culture & politics.'\n",
    "new_podcast_categories = 'Society & Culture | Self-Help'"
   ]
  },
  {
   "cell_type": "code",
   "execution_count": 54,
   "metadata": {},
   "outputs": [],
   "source": [
    "podcasts_z = podcasts.drop(['index', 'uuid','image','language','website','author','itunes_id','description_length'], axis=1)"
   ]
  },
  {
   "cell_type": "code",
   "execution_count": 55,
   "metadata": {},
   "outputs": [],
   "source": [
    "# CODING IT OUT\n",
    "\n",
    "# podcasts_z = podcasts.drop(['index','uuid','image', 'language','website','author','itunes_id','description_length'], axis=1)\n",
    "# unseen podcast title, description and category entered\n",
    "def update_new_podcast(podcasts_df, new_podcast_title, new_podcast_description, new_podcast_categories):\n",
    "    new_podcast_row = pd.DataFrame(np.array([[new_podcast_title, new_podcast_description, new_podcast_categories]]), columns=['title', 'description','categories'])\n",
    "    podcasts_df = pd.concat([new_podcast_row, podcasts_z], ignore_index=True)\n",
    "    \n",
    "    return podcasts_df"
   ]
  },
  {
   "cell_type": "code",
   "execution_count": 56,
   "metadata": {},
   "outputs": [],
   "source": [
    "podcasts_z = update_new_podcast(podcasts_z, new_podcast_title, new_podcast_description, new_podcast_categories)"
   ]
  },
  {
   "cell_type": "code",
   "execution_count": 57,
   "metadata": {},
   "outputs": [
    {
     "data": {
      "text/html": [
       "<div>\n",
       "<style scoped>\n",
       "    .dataframe tbody tr th:only-of-type {\n",
       "        vertical-align: middle;\n",
       "    }\n",
       "\n",
       "    .dataframe tbody tr th {\n",
       "        vertical-align: top;\n",
       "    }\n",
       "\n",
       "    .dataframe thead th {\n",
       "        text-align: right;\n",
       "    }\n",
       "</style>\n",
       "<table border=\"1\" class=\"dataframe\">\n",
       "  <thead>\n",
       "    <tr style=\"text-align: right;\">\n",
       "      <th></th>\n",
       "      <th>title</th>\n",
       "      <th>description</th>\n",
       "      <th>categories</th>\n",
       "    </tr>\n",
       "  </thead>\n",
       "  <tbody>\n",
       "    <tr>\n",
       "      <th>0</th>\n",
       "      <td>Wait, Hold Up!</td>\n",
       "      <td>Each week, tune in as Yarel and Jessica interv...</td>\n",
       "      <td>Society &amp; Culture | Self-Help</td>\n",
       "    </tr>\n",
       "    <tr>\n",
       "      <th>1</th>\n",
       "      <td>Eat Sleep Code Podcast</td>\n",
       "      <td>On the show we’ll be talking to passionate peo...</td>\n",
       "      <td>Tech News | Technology</td>\n",
       "    </tr>\n",
       "    <tr>\n",
       "      <th>2</th>\n",
       "      <td>The Tech M&amp;A Podcast</td>\n",
       "      <td>The Tech M&amp;A Podcast pulls from the best of th...</td>\n",
       "      <td>Business News | Technology | Tech News | Business</td>\n",
       "    </tr>\n",
       "    <tr>\n",
       "      <th>3</th>\n",
       "      <td>Social Media, Mobility, Analytics, Cloud: Tech...</td>\n",
       "      <td>SMACtalk hosted by Brian Fanzo and Daniel Newm...</td>\n",
       "      <td>Management &amp; Marketing | Business | Technology...</td>\n",
       "    </tr>\n",
       "    <tr>\n",
       "      <th>4</th>\n",
       "      <td>Radio Leo (Video LO)</td>\n",
       "      <td>A compendium of netcasts from the Chief TWiT, ...</td>\n",
       "      <td>Tech News | Technology | News &amp; Politics | Gad...</td>\n",
       "    </tr>\n",
       "    <tr>\n",
       "      <th>...</th>\n",
       "      <td>...</td>\n",
       "      <td>...</td>\n",
       "      <td>...</td>\n",
       "    </tr>\n",
       "    <tr>\n",
       "      <th>59318</th>\n",
       "      <td>Stereo Embers: The Podcast</td>\n",
       "      <td>Hosted by Alex Green, Stereo Embers: The Podca...</td>\n",
       "      <td>Music</td>\n",
       "    </tr>\n",
       "    <tr>\n",
       "      <th>59319</th>\n",
       "      <td>For Your Benefit</td>\n",
       "      <td>Host Bob Leins and presenters from the Nationa...</td>\n",
       "      <td>Government &amp; Organizations | News &amp; Politics |...</td>\n",
       "    </tr>\n",
       "    <tr>\n",
       "      <th>59320</th>\n",
       "      <td>BAFTA Guru</td>\n",
       "      <td>BAFTA is a world-leading independent arts char...</td>\n",
       "      <td>TV &amp; Film</td>\n",
       "    </tr>\n",
       "    <tr>\n",
       "      <th>59321</th>\n",
       "      <td>The Junction</td>\n",
       "      <td>The best mix old of school and new school hip ...</td>\n",
       "      <td>Arts | TV &amp; Film | Music</td>\n",
       "    </tr>\n",
       "    <tr>\n",
       "      <th>59322</th>\n",
       "      <td>The Skinny Fat Crazy Lady's show</td>\n",
       "      <td>My ultimate goal is to teach you how to live a...</td>\n",
       "      <td>Society &amp; Culture</td>\n",
       "    </tr>\n",
       "  </tbody>\n",
       "</table>\n",
       "<p>59323 rows × 3 columns</p>\n",
       "</div>"
      ],
      "text/plain": [
       "                                                   title  \\\n",
       "0                                         Wait, Hold Up!   \n",
       "1                                 Eat Sleep Code Podcast   \n",
       "2                                   The Tech M&A Podcast   \n",
       "3      Social Media, Mobility, Analytics, Cloud: Tech...   \n",
       "4                                   Radio Leo (Video LO)   \n",
       "...                                                  ...   \n",
       "59318                         Stereo Embers: The Podcast   \n",
       "59319                                   For Your Benefit   \n",
       "59320                                         BAFTA Guru   \n",
       "59321                                       The Junction   \n",
       "59322                   The Skinny Fat Crazy Lady's show   \n",
       "\n",
       "                                             description  \\\n",
       "0      Each week, tune in as Yarel and Jessica interv...   \n",
       "1      On the show we’ll be talking to passionate peo...   \n",
       "2      The Tech M&A Podcast pulls from the best of th...   \n",
       "3      SMACtalk hosted by Brian Fanzo and Daniel Newm...   \n",
       "4      A compendium of netcasts from the Chief TWiT, ...   \n",
       "...                                                  ...   \n",
       "59318  Hosted by Alex Green, Stereo Embers: The Podca...   \n",
       "59319  Host Bob Leins and presenters from the Nationa...   \n",
       "59320  BAFTA is a world-leading independent arts char...   \n",
       "59321  The best mix old of school and new school hip ...   \n",
       "59322  My ultimate goal is to teach you how to live a...   \n",
       "\n",
       "                                              categories  \n",
       "0                          Society & Culture | Self-Help  \n",
       "1                                 Tech News | Technology  \n",
       "2      Business News | Technology | Tech News | Business  \n",
       "3      Management & Marketing | Business | Technology...  \n",
       "4      Tech News | Technology | News & Politics | Gad...  \n",
       "...                                                  ...  \n",
       "59318                                              Music  \n",
       "59319  Government & Organizations | News & Politics |...  \n",
       "59320                                          TV & Film  \n",
       "59321                           Arts | TV & Film | Music  \n",
       "59322                                  Society & Culture  \n",
       "\n",
       "[59323 rows x 3 columns]"
      ]
     },
     "execution_count": 57,
     "metadata": {},
     "output_type": "execute_result"
    }
   ],
   "source": [
    "podcasts_z"
   ]
  },
  {
   "cell_type": "code",
   "execution_count": 58,
   "metadata": {},
   "outputs": [],
   "source": [
    "def update_category_matrix(podcasts_df):\n",
    "    # convert list into columns and append to podcast dataframe \n",
    "    category_df = pd.DataFrame()\n",
    "    # run a loop to check if categories column has the word in each of the new columns 1 for yes 0 for no\n",
    "    for column_name in new_features:\n",
    "        boolean_series = podcasts_df.categories.str.contains(column_name).astype(float)\n",
    "        category_df[column_name] = boolean_series\n",
    "    return category_df / 125\n",
    "    "
   ]
  },
  {
   "cell_type": "code",
   "execution_count": 59,
   "metadata": {},
   "outputs": [],
   "source": [
    "category_df = update_category_matrix(podcasts_z)"
   ]
  },
  {
   "cell_type": "code",
   "execution_count": 60,
   "metadata": {},
   "outputs": [],
   "source": [
    "# appended to the original podcast dataset and generate predictions as per usual. \n",
    "def new_podcast_sparse_generator(podcasts_df, new_podcast_title, category_df):\n",
    "        podcasts_df['description'] = podcasts_df['description'].astype(str)\n",
    "\n",
    "        # vectorize podcast descriptions \n",
    "        tf = TfidfVectorizer(analyzer = 'word', ngram_range = (1, 2), max_features = 5000, stop_words = \"english\")\n",
    "        tf_idf = tf.fit_transform(podcasts_df['description'])\n",
    "        \n",
    "        #append sparse category matrix\n",
    "        category_array = category_df.to_numpy()\n",
    "        sparse_category = sparse.csr_matrix(category_array)\n",
    "        tf_idf = hstack([tf_idf, sparse_category])\n",
    "        return tf_idf"
   ]
  },
  {
   "cell_type": "code",
   "execution_count": 61,
   "metadata": {},
   "outputs": [],
   "source": [
    "tf_idf = new_podcast_sparse_generator(podcasts_z, new_podcast_title, category_df)"
   ]
  },
  {
   "cell_type": "code",
   "execution_count": 62,
   "metadata": {},
   "outputs": [],
   "source": [
    "def new_podcast_rec_generator(podcasts_df, new_podcast_title, tf_idf=tf_idf):\n",
    "        # generates similarity matrix\n",
    "        similarity_matrix = cosine_similarity(tf_idf, dense_output=False)  \n",
    "        # unpacks information on respective podcast \n",
    "        x = podcasts_df[podcasts_df.title == new_podcast_title].index[0]\n",
    "        podcast_similarities = similarity_matrix[x].todense()\n",
    "        similar_idx = podcast_similarities.argsort(axis=None)[:,-6:-1]\n",
    "        for i in range(4,-1,-1):\n",
    "            print(podcast_similarities.item(similar_idx.item(i)), '-', podcasts_df.title[similar_idx.item(i)], '-', podcasts_df.description[similar_idx.item(i)], '\\n')\n",
    "        print('Original - ' + podcasts_df.title[x] + ' -' + podcasts_df.description[x])"
   ]
  },
  {
   "cell_type": "code",
   "execution_count": 63,
   "metadata": {},
   "outputs": [
    {
     "name": "stdout",
     "output_type": "stream",
     "text": [
      "0.28585391727227594 - Drinking Buddies Podcast - A podcast about everything from pop culture to politics to sports. Two friends that have a couple beers and discuss the past week. \n",
      "\n",
      "0.2786600750403002 - Danger! Talks... - An open discussion podcast on subjects that I want to know more about with the people that know more about them. \n",
      "\n",
      "0.2649420522410131 - Olympia Pop Rocks - Guire and Jemmy Joe interview local Olympians of note, and discuss pop culture, politics, local issues or whatever strikes their fancy. \n",
      "\n",
      "0.25805375473402736 - People I Know - People I Know - the podcast that talks to interesting people so you don't have to. Each episode will see a new interesting person that I know, talk about some interesting people that they know... not forgetting the all-important scented candle review! \n",
      "\n",
      "0.2543629237085361 - The Raven Effect - Join professional wrestling superstar & world class idiot, Raven, along with a motley assortment of friends, enemies, know-it-alls, know nothings, professional level morons and highly functioning sociopaths, for a veritable cornucopia of stupidity covering current events, conspiracies, pop culture, politics, general muckety-muck, and any and all topics that can be properly bantered. \n",
      "\n",
      "Original - Wait, Hold Up! -Each week, tune in as Yarel and Jessica interview people you know (or who they think you should know) who are on their grind and learn the wait, hold up moments that changed their lives. When theyre not with a guest theyre diving into the latest in pop culture & politics.\n"
     ]
    }
   ],
   "source": [
    "new_podcast_rec_generator(podcasts_z, new_podcast_title, tf_idf=tf_idf)"
   ]
  },
  {
   "cell_type": "code",
   "execution_count": 64,
   "metadata": {},
   "outputs": [],
   "source": [
    "# This website function generates a recommendation based on what user has entered and prints out recs"
   ]
  },
  {
   "cell_type": "markdown",
   "metadata": {},
   "source": [
    "## Conclusions and Recommendations "
   ]
  },
  {
   "cell_type": "code",
   "execution_count": null,
   "metadata": {},
   "outputs": [],
   "source": []
  },
  {
   "cell_type": "markdown",
   "metadata": {},
   "source": [
    "## References \n"
   ]
  },
  {
   "cell_type": "markdown",
   "metadata": {},
   "source": [
    "- Building a Podcast Recommendation Engine https://www.kaggle.com/switkowski/building-a-podcast-recommendation-engine\n",
    "- How to Clean Text for Machine Learning with Python https://machinelearningmastery.com/clean-text-machine-learning-python/\n",
    "- What is a cosine similarity matrix? https://medium.com/acing-ai/what-is-cosine-similarity-matrix-f0819e674ad1\n",
    "- A Gentle Introduction to Sparse Matrices for Machine Learning https://machinelearningmastery.com/sparse-matrices-for-machine-learning/\n",
    "- How do I get indices of N maximum values in a NumPy array? https://stackoverflow.com/questions/6910641/how-do-i-get-indices-of-n-maximum-values-in-a-numpy-array/38884051\n",
    "- How to create a production-ready Recommender System https://towardsdatascience.com/how-to-create-a-production-ready-recommender-system-3c932752f8ea\n",
    "- Converting sparse matrix to dense matrix https://docs.scipy.org/doc/scipy/reference/generated/scipy.sparse.csr_matrix.todense.html\n",
    "- 20 Podcast Predictions for 2020 from Top Industry Leaders https://blog.pacific-content.com/20-podcast-predictions-for-2020-from-top-industry-leaders-f4ef49e48909\n",
    "- How to transform numpy.matrix or array to scipy sparse matrix https://stackoverflow.com/questions/7922487/how-to-transform-numpy-matrix-or-array-to-scipy-sparse-matrix"
   ]
  },
  {
   "cell_type": "code",
   "execution_count": 65,
   "metadata": {},
   "outputs": [],
   "source": [
    "# timed verbose loop function example\n",
    "# %%time \n",
    "# for i in range(100):\n",
    "#     if i % 10 == 0:\n",
    "#         print(i)"
   ]
  },
  {
   "cell_type": "markdown",
   "metadata": {},
   "source": [
    "# Expansion "
   ]
  },
  {
   "cell_type": "markdown",
   "metadata": {},
   "source": [
    "## Episodes Data "
   ]
  },
  {
   "cell_type": "markdown",
   "metadata": {},
   "source": [
    "### Data Import and EDA"
   ]
  },
  {
   "cell_type": "code",
   "execution_count": 66,
   "metadata": {},
   "outputs": [],
   "source": [
    "episodes = pd.read_csv('../data/episodes.csv')"
   ]
  },
  {
   "cell_type": "code",
   "execution_count": 67,
   "metadata": {},
   "outputs": [
    {
     "data": {
      "text/plain": [
       "(881046, 7)"
      ]
     },
     "execution_count": 67,
     "metadata": {},
     "output_type": "execute_result"
    }
   ],
   "source": [
    "episodes.shape"
   ]
  },
  {
   "cell_type": "code",
   "execution_count": 68,
   "metadata": {},
   "outputs": [
    {
     "data": {
      "text/html": [
       "<div>\n",
       "<style scoped>\n",
       "    .dataframe tbody tr th:only-of-type {\n",
       "        vertical-align: middle;\n",
       "    }\n",
       "\n",
       "    .dataframe tbody tr th {\n",
       "        vertical-align: top;\n",
       "    }\n",
       "\n",
       "    .dataframe thead th {\n",
       "        text-align: right;\n",
       "    }\n",
       "</style>\n",
       "<table border=\"1\" class=\"dataframe\">\n",
       "  <thead>\n",
       "    <tr style=\"text-align: right;\">\n",
       "      <th></th>\n",
       "      <th>title</th>\n",
       "      <th>audio</th>\n",
       "      <th>audio_length</th>\n",
       "      <th>description</th>\n",
       "      <th>pub_date</th>\n",
       "      <th>uuid</th>\n",
       "      <th>podcast_uuid</th>\n",
       "    </tr>\n",
       "  </thead>\n",
       "  <tbody>\n",
       "    <tr>\n",
       "      <th>0</th>\n",
       "      <td>Piątek - 01 grudnia</td>\n",
       "      <td>https://cdneu.modlitwawdrodze.pl/prayers/MWD_2...</td>\n",
       "      <td>490</td>\n",
       "      <td>święci męczennicy jezuiccy Edmund Campion SJ, ...</td>\n",
       "      <td>2017-12-01 00:00:00+00</td>\n",
       "      <td>fd5d891411174c7ca953c1f54657c3eb</td>\n",
       "      <td>811c18cf575841b3bef4601978f17ca9</td>\n",
       "    </tr>\n",
       "    <tr>\n",
       "      <th>1</th>\n",
       "      <td>Sobota - 02 grudnia</td>\n",
       "      <td>https://cdneu.modlitwawdrodze.pl/prayers/MWD_2...</td>\n",
       "      <td>481</td>\n",
       "      <td>bł. Rafał Chyliński, prezbiter, Łk 21, 34-36</td>\n",
       "      <td>2017-12-02 00:00:00+00</td>\n",
       "      <td>5c28fa0a27b342cd92ff03c16a8019c2</td>\n",
       "      <td>811c18cf575841b3bef4601978f17ca9</td>\n",
       "    </tr>\n",
       "    <tr>\n",
       "      <th>2</th>\n",
       "      <td>Niedziela - 03 grudnia</td>\n",
       "      <td>https://cdneu.modlitwawdrodze.pl/prayers/MWD_2...</td>\n",
       "      <td>667</td>\n",
       "      <td>Pierwsza Niedziela Adwentu, Mk 13, 33-37</td>\n",
       "      <td>2017-12-03 00:00:00+00</td>\n",
       "      <td>efdc9f4f07fa4c4883f8848256066cec</td>\n",
       "      <td>811c18cf575841b3bef4601978f17ca9</td>\n",
       "    </tr>\n",
       "    <tr>\n",
       "      <th>3</th>\n",
       "      <td>Introduction to Luke</td>\n",
       "      <td>http://www.wgcr.net/images/TimelessTruths/TTT-...</td>\n",
       "      <td>1691</td>\n",
       "      <td>Luke 1:1-4 -</td>\n",
       "      <td>2017-12-03 11:30:05+00</td>\n",
       "      <td>cc2860165fa84d1092f6b45f19255a87</td>\n",
       "      <td>36ed4e62dcd94412a5211cc9bd76ba7c</td>\n",
       "    </tr>\n",
       "    <tr>\n",
       "      <th>4</th>\n",
       "      <td>Dear Science: Lightning, Dead Cats and Hand Sa...</td>\n",
       "      <td>http://95bfm.com/sites/default/files/291117_De...</td>\n",
       "      <td>1152</td>\n",
       "      <td>&lt;p&gt;Today on Dear Science with AUT's Allan Blac...</td>\n",
       "      <td>2017-12-27 11:00:00+00</td>\n",
       "      <td>69bd409e0469433581ccc76cf7b664ad</td>\n",
       "      <td>fa36a26a1879453f95da1379c737cd6d</td>\n",
       "    </tr>\n",
       "  </tbody>\n",
       "</table>\n",
       "</div>"
      ],
      "text/plain": [
       "                                               title  \\\n",
       "0                                Piątek - 01 grudnia   \n",
       "1                                Sobota - 02 grudnia   \n",
       "2                             Niedziela - 03 grudnia   \n",
       "3                               Introduction to Luke   \n",
       "4  Dear Science: Lightning, Dead Cats and Hand Sa...   \n",
       "\n",
       "                                               audio  audio_length  \\\n",
       "0  https://cdneu.modlitwawdrodze.pl/prayers/MWD_2...           490   \n",
       "1  https://cdneu.modlitwawdrodze.pl/prayers/MWD_2...           481   \n",
       "2  https://cdneu.modlitwawdrodze.pl/prayers/MWD_2...           667   \n",
       "3  http://www.wgcr.net/images/TimelessTruths/TTT-...          1691   \n",
       "4  http://95bfm.com/sites/default/files/291117_De...          1152   \n",
       "\n",
       "                                         description                pub_date  \\\n",
       "0  święci męczennicy jezuiccy Edmund Campion SJ, ...  2017-12-01 00:00:00+00   \n",
       "1       bł. Rafał Chyliński, prezbiter, Łk 21, 34-36  2017-12-02 00:00:00+00   \n",
       "2           Pierwsza Niedziela Adwentu, Mk 13, 33-37  2017-12-03 00:00:00+00   \n",
       "3                                       Luke 1:1-4 -  2017-12-03 11:30:05+00   \n",
       "4  <p>Today on Dear Science with AUT's Allan Blac...  2017-12-27 11:00:00+00   \n",
       "\n",
       "                               uuid                      podcast_uuid  \n",
       "0  fd5d891411174c7ca953c1f54657c3eb  811c18cf575841b3bef4601978f17ca9  \n",
       "1  5c28fa0a27b342cd92ff03c16a8019c2  811c18cf575841b3bef4601978f17ca9  \n",
       "2  efdc9f4f07fa4c4883f8848256066cec  811c18cf575841b3bef4601978f17ca9  \n",
       "3  cc2860165fa84d1092f6b45f19255a87  36ed4e62dcd94412a5211cc9bd76ba7c  \n",
       "4  69bd409e0469433581ccc76cf7b664ad  fa36a26a1879453f95da1379c737cd6d  "
      ]
     },
     "execution_count": 68,
     "metadata": {},
     "output_type": "execute_result"
    }
   ],
   "source": [
    "episodes.head()"
   ]
  },
  {
   "cell_type": "code",
   "execution_count": 69,
   "metadata": {},
   "outputs": [
    {
     "name": "stdout",
     "output_type": "stream",
     "text": [
      "<class 'pandas.core.frame.DataFrame'>\n",
      "RangeIndex: 881046 entries, 0 to 881045\n",
      "Data columns (total 7 columns):\n",
      " #   Column        Non-Null Count   Dtype \n",
      "---  ------        --------------   ----- \n",
      " 0   title         880842 non-null  object\n",
      " 1   audio         869498 non-null  object\n",
      " 2   audio_length  881046 non-null  int64 \n",
      " 3   description   792720 non-null  object\n",
      " 4   pub_date      881046 non-null  object\n",
      " 5   uuid          881046 non-null  object\n",
      " 6   podcast_uuid  881046 non-null  object\n",
      "dtypes: int64(1), object(6)\n",
      "memory usage: 47.1+ MB\n"
     ]
    }
   ],
   "source": [
    "episodes.info()"
   ]
  }
 ],
 "metadata": {
  "kernelspec": {
   "display_name": "Python 3",
   "language": "python",
   "name": "python3"
  },
  "language_info": {
   "codemirror_mode": {
    "name": "ipython",
    "version": 3
   },
   "file_extension": ".py",
   "mimetype": "text/x-python",
   "name": "python",
   "nbconvert_exporter": "python",
   "pygments_lexer": "ipython3",
   "version": "3.7.7"
  }
 },
 "nbformat": 4,
 "nbformat_minor": 4
}
